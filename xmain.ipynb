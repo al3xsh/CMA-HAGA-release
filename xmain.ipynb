{
 "cells": [
  {
   "cell_type": "markdown",
   "metadata": {},
   "source": [
    "### Dr. Shahin Rostami\n",
    "### http://www.shahinrostami.com\n",
    "@article{rostami2016covariance,\n",
    "  title={Covariance matrix adaptation pareto archived evolution strategy with hypervolume-sorted adaptive grid algorithm},\n",
    "  author={Rostami, Shahin and Neri, Ferrante},\n",
    "  journal={Integrated Computer-Aided Engineering},\n",
    "  volume={23},\n",
    "  number={4},\n",
    "  pages={313--329},\n",
    "  year={2016},\n",
    "  publisher={IOS Press}\n",
    "}"
   ]
  },
  {
   "cell_type": "markdown",
   "metadata": {},
   "source": [
    "### Imports"
   ]
  },
  {
   "cell_type": "code",
   "execution_count": 1,
   "metadata": {
    "collapsed": false
   },
   "outputs": [
    {
     "name": "stdout",
     "output_type": "stream",
     "text": [
      "Automatic pdb calling has been turned ON\n"
     ]
    }
   ],
   "source": [
    "import copy\n",
    "import random\n",
    "import numpy as np\n",
    "from collections import namedtuple\n",
    "\n",
    "from optproblems import zdt\n",
    "from optproblems import dtlz\n",
    "from optproblems import wfg\n",
    "\n",
    "from penalising_evaluator import evaluate\n",
    "from cma import StrategyMultiObjective\n",
    "from haga import select\n",
    "%pdb"
   ]
  },
  {
   "cell_type": "markdown",
   "metadata": {},
   "source": [
    "### Visualisation"
   ]
  },
  {
   "cell_type": "code",
   "execution_count": 2,
   "metadata": {
    "collapsed": false
   },
   "outputs": [],
   "source": [
    "VIZ = True\n",
    "\n",
    "if(VIZ):\n",
    "    import matplotlib.pyplot as plt\n",
    "    from pandas.tools.plotting import parallel_coordinates\n",
    "    import pandas as pd\n",
    "    from IPython.display import display, clear_output\n",
    "    from mpl_toolkits.mplot3d import Axes3D"
   ]
  },
  {
   "cell_type": "markdown",
   "metadata": {},
   "source": [
    "### Data Structures"
   ]
  },
  {
   "cell_type": "code",
   "execution_count": 3,
   "metadata": {
    "collapsed": false
   },
   "outputs": [],
   "source": [
    "Population = namedtuple(\"Population\", \"variables objectives\")"
   ]
  },
  {
   "cell_type": "markdown",
   "metadata": {},
   "source": [
    "### Problem Configuration"
   ]
  },
  {
   "cell_type": "code",
   "execution_count": 4,
   "metadata": {
    "collapsed": false
   },
   "outputs": [],
   "source": [
    "M = 4 # no. objectives\n",
    "V = 12 # no. variables\n",
    "\n",
    "#k = 2 * (M - 1)\n",
    "#problem = wfg.WFG1(M, V, k) # create instance of problem\n",
    "\n",
    "problem = dtlz.DTLZ2(M,V)  # NOTE: some test function implementations are broken in optproblems package.\n",
    "#problem = zdt.ZDT4()\n",
    "\n",
    "# variable boundaries\n",
    "bounds_lower = problem.min_bounds\n",
    "bounds_upper = problem.max_bounds"
   ]
  },
  {
   "cell_type": "markdown",
   "metadata": {},
   "source": [
    "### Algorithm Configuration"
   ]
  },
  {
   "cell_type": "code",
   "execution_count": 5,
   "metadata": {
    "collapsed": false
   },
   "outputs": [],
   "source": [
    "delta = 2 # divisions per objective\n",
    "\n",
    "max_gens = 1000 # max number of generations\n",
    "\n",
    "pen_alpha = 1.0 / V / M # how much we penalize infeasible solutions\n",
    "\n",
    "mu = 100 # population size\n",
    "mu_pop = Population(variables=np.zeros((mu,V)), objectives=np.zeros((mu,M)))\n",
    "lambda_pop = Population(variables=np.zeros((mu,V)), objectives=np.zeros((mu,M)))\n",
    "\n",
    "cma = StrategyMultiObjective(V, mu, mu, 1)\n",
    "\n",
    "max_refs = np.zeros(M)"
   ]
  },
  {
   "cell_type": "markdown",
   "metadata": {},
   "source": [
    "### Initialise Population"
   ]
  },
  {
   "cell_type": "code",
   "execution_count": null,
   "metadata": {
    "collapsed": false
   },
   "outputs": [],
   "source": [
    "for n in range(0, mu):\n",
    "    solution = np.zeros(V)\n",
    "    for v in range(0, V):\n",
    "        solution[v] = np.random.uniform(bounds_lower[v], bounds_upper[v], size=1)\n",
    "    mu_pop.variables[n, :] = solution\n",
    "\n",
    "mu_pop = evaluate(problem, mu, mu_pop,bounds_lower, bounds_upper, pen_alpha)"
   ]
  },
  {
   "cell_type": "markdown",
   "metadata": {},
   "source": [
    "### Generational Loop"
   ]
  },
  {
   "cell_type": "code",
   "execution_count": null,
   "metadata": {
    "collapsed": false
   },
   "outputs": [
    {
     "ename": "KeyboardInterrupt",
     "evalue": "",
     "output_type": "error",
     "traceback": [
      "\u001b[1;31m\u001b[0m",
      "\u001b[1;31mKeyboardInterrupt\u001b[0mTraceback (most recent call last)",
      "\u001b[1;32m<ipython-input-7-25b9a84c3c59>\u001b[0m in \u001b[0;36m<module>\u001b[1;34m()\u001b[0m\n\u001b[0;32m     11\u001b[0m     \u001b[0mcma_parent_pop\u001b[0m \u001b[1;33m=\u001b[0m \u001b[0mmu_pop\u001b[0m\u001b[1;33m.\u001b[0m\u001b[0mvariables\u001b[0m\u001b[1;33m[\u001b[0m\u001b[1;33m:\u001b[0m\u001b[1;33m]\u001b[0m\u001b[1;33m\u001b[0m\u001b[0m\n\u001b[0;32m     12\u001b[0m \u001b[1;33m\u001b[0m\u001b[0m\n\u001b[1;32m---> 13\u001b[1;33m     \u001b[1;33m(\u001b[0m\u001b[0mparent_id\u001b[0m\u001b[1;33m,\u001b[0m \u001b[0mis_parent\u001b[0m\u001b[1;33m,\u001b[0m \u001b[0mmu_pop\u001b[0m\u001b[1;33m)\u001b[0m \u001b[1;33m=\u001b[0m \u001b[0mselect\u001b[0m\u001b[1;33m(\u001b[0m\u001b[0mmu_pop\u001b[0m\u001b[1;33m,\u001b[0m \u001b[0mlambda_pop\u001b[0m\u001b[1;33m,\u001b[0m \u001b[0mmu\u001b[0m\u001b[1;33m,\u001b[0m \u001b[0mdelta\u001b[0m\u001b[1;33m,\u001b[0m \u001b[0mmax_refs\u001b[0m\u001b[1;33m)\u001b[0m\u001b[1;33m\u001b[0m\u001b[0m\n\u001b[0m\u001b[0;32m     14\u001b[0m \u001b[1;33m\u001b[0m\u001b[0m\n\u001b[0;32m     15\u001b[0m     \u001b[0mcma\u001b[0m\u001b[1;33m.\u001b[0m\u001b[0mupdate\u001b[0m\u001b[1;33m(\u001b[0m\u001b[0mmu_pop\u001b[0m\u001b[1;33m,\u001b[0m \u001b[0mis_parent\u001b[0m\u001b[1;33m,\u001b[0m \u001b[0mparent_id\u001b[0m\u001b[1;33m,\u001b[0m \u001b[0mmu\u001b[0m\u001b[1;33m,\u001b[0m \u001b[0mcma_parent_pop\u001b[0m\u001b[1;33m)\u001b[0m\u001b[1;33m\u001b[0m\u001b[0m\n",
      "\u001b[1;32m/home/jovyan/work/CMA-HAGA-release/haga.pyc\u001b[0m in \u001b[0;36mselect\u001b[1;34m(parent_population, offspring_population, mu, delta, ref)\u001b[0m\n\u001b[0;32m     38\u001b[0m                     \u001b[0mrejected\u001b[0m \u001b[1;33m=\u001b[0m \u001b[0mchv_selection\u001b[0m\u001b[1;33m(\u001b[0m\u001b[0mhv_pop\u001b[0m\u001b[1;33m,\u001b[0m \u001b[0mref\u001b[0m\u001b[1;33m,\u001b[0m \u001b[1;33m(\u001b[0m\u001b[0mmu\u001b[0m \u001b[1;33m-\u001b[0m \u001b[0mlen\u001b[0m\u001b[1;33m(\u001b[0m\u001b[0msel_idx\u001b[0m\u001b[1;33m)\u001b[0m\u001b[1;33m)\u001b[0m\u001b[1;33m)\u001b[0m\u001b[1;33m\u001b[0m\u001b[0m\n\u001b[0;32m     39\u001b[0m                 \u001b[1;32melse\u001b[0m\u001b[1;33m:\u001b[0m\u001b[1;33m\u001b[0m\u001b[0m\n\u001b[1;32m---> 40\u001b[1;33m                     \u001b[0mrejected\u001b[0m \u001b[1;33m=\u001b[0m \u001b[0mhaga_selection\u001b[0m\u001b[1;33m(\u001b[0m\u001b[0mhv_pop\u001b[0m\u001b[1;33m,\u001b[0m \u001b[0mref\u001b[0m\u001b[1;33m,\u001b[0m \u001b[1;33m(\u001b[0m\u001b[0mmu\u001b[0m \u001b[1;33m-\u001b[0m \u001b[0mlen\u001b[0m\u001b[1;33m(\u001b[0m\u001b[0msel_idx\u001b[0m\u001b[1;33m)\u001b[0m\u001b[1;33m)\u001b[0m\u001b[1;33m,\u001b[0m \u001b[0mdelta\u001b[0m\u001b[1;33m)\u001b[0m\u001b[1;33m\u001b[0m\u001b[0m\n\u001b[0m\u001b[0;32m     41\u001b[0m                 \u001b[0mtemp_idx\u001b[0m \u001b[1;33m=\u001b[0m \u001b[0midx\u001b[0m\u001b[1;33m[\u001b[0m\u001b[1;33m:\u001b[0m\u001b[1;33m]\u001b[0m\u001b[1;33m\u001b[0m\u001b[0m\n\u001b[0;32m     42\u001b[0m                 \u001b[0mtemp_idx\u001b[0m \u001b[1;33m=\u001b[0m \u001b[0mnp\u001b[0m\u001b[1;33m.\u001b[0m\u001b[0mdelete\u001b[0m\u001b[1;33m(\u001b[0m\u001b[0mtemp_idx\u001b[0m\u001b[1;33m,\u001b[0m \u001b[0mrejected\u001b[0m\u001b[1;33m,\u001b[0m\u001b[0maxis\u001b[0m\u001b[1;33m=\u001b[0m\u001b[1;36m0\u001b[0m\u001b[1;33m)\u001b[0m\u001b[1;33m\u001b[0m\u001b[0m\n",
      "\u001b[1;32m/home/jovyan/work/CMA-HAGA-release/haga.pyc\u001b[0m in \u001b[0;36mhaga_selection\u001b[1;34m(original_pop, ref, cap, delta)\u001b[0m\n\u001b[0;32m    125\u001b[0m                 \u001b[0mgrid_rejected\u001b[0m \u001b[1;33m=\u001b[0m \u001b[0mworst_chv\u001b[0m\u001b[1;33m(\u001b[0m\u001b[0mgrid_pop\u001b[0m\u001b[1;33m,\u001b[0m \u001b[0mref\u001b[0m\u001b[1;33m,\u001b[0m \u001b[0mnobj\u001b[0m\u001b[1;33m,\u001b[0m \u001b[1;33m(\u001b[0m\u001b[0mlen\u001b[0m\u001b[1;33m(\u001b[0m\u001b[0mgrid_pop\u001b[0m\u001b[1;33m)\u001b[0m\u001b[1;33m)\u001b[0m\u001b[1;33m)\u001b[0m\u001b[1;33m\u001b[0m\u001b[0m\n\u001b[0;32m    126\u001b[0m                 \u001b[0mrejected\u001b[0m\u001b[1;33m.\u001b[0m\u001b[0mappend\u001b[0m\u001b[1;33m(\u001b[0m\u001b[0mgrid_sel\u001b[0m\u001b[1;33m[\u001b[0m\u001b[0mgrid_rejected\u001b[0m\u001b[1;33m]\u001b[0m\u001b[1;33m)\u001b[0m\u001b[1;33m\u001b[0m\u001b[0m\n\u001b[1;32m--> 127\u001b[1;33m                 \u001b[0mgrid_sel\u001b[0m \u001b[1;33m=\u001b[0m \u001b[0mnp\u001b[0m\u001b[1;33m.\u001b[0m\u001b[0mdelete\u001b[0m\u001b[1;33m(\u001b[0m\u001b[0mgrid_sel\u001b[0m\u001b[1;33m,\u001b[0m \u001b[1;33m(\u001b[0m\u001b[0mgrid_rejected\u001b[0m\u001b[1;33m)\u001b[0m\u001b[1;33m,\u001b[0m \u001b[0maxis\u001b[0m\u001b[1;33m=\u001b[0m\u001b[1;36m0\u001b[0m\u001b[1;33m)\u001b[0m\u001b[1;33m\u001b[0m\u001b[0m\n\u001b[0m\u001b[0;32m    128\u001b[0m                 \u001b[0mgrid_pop\u001b[0m \u001b[1;33m=\u001b[0m \u001b[0mnp\u001b[0m\u001b[1;33m.\u001b[0m\u001b[0mdelete\u001b[0m\u001b[1;33m(\u001b[0m\u001b[0mgrid_pop\u001b[0m\u001b[1;33m,\u001b[0m \u001b[1;33m(\u001b[0m\u001b[0mgrid_rejected\u001b[0m\u001b[1;33m)\u001b[0m\u001b[1;33m,\u001b[0m \u001b[0maxis\u001b[0m\u001b[1;33m=\u001b[0m\u001b[1;36m0\u001b[0m\u001b[1;33m)\u001b[0m\u001b[1;33m\u001b[0m\u001b[0m\n\u001b[0;32m    129\u001b[0m \u001b[1;33m\u001b[0m\u001b[0m\n",
      "\u001b[1;31mKeyboardInterrupt\u001b[0m: "
     ]
    },
    {
     "name": "stdout",
     "output_type": "stream",
     "text": [
      "> \u001b[1;32m/home/jovyan/work/CMA-HAGA-release/haga.py\u001b[0m(127)\u001b[0;36mhaga_selection\u001b[1;34m()\u001b[0m\n",
      "\u001b[1;32m    125 \u001b[1;33m                \u001b[0mgrid_rejected\u001b[0m \u001b[1;33m=\u001b[0m \u001b[0mworst_chv\u001b[0m\u001b[1;33m(\u001b[0m\u001b[0mgrid_pop\u001b[0m\u001b[1;33m,\u001b[0m \u001b[0mref\u001b[0m\u001b[1;33m,\u001b[0m \u001b[0mnobj\u001b[0m\u001b[1;33m,\u001b[0m \u001b[1;33m(\u001b[0m\u001b[0mlen\u001b[0m\u001b[1;33m(\u001b[0m\u001b[0mgrid_pop\u001b[0m\u001b[1;33m)\u001b[0m\u001b[1;33m)\u001b[0m\u001b[1;33m)\u001b[0m\u001b[1;33m\u001b[0m\u001b[0m\n",
      "\u001b[0m\u001b[1;32m    126 \u001b[1;33m                \u001b[0mrejected\u001b[0m\u001b[1;33m.\u001b[0m\u001b[0mappend\u001b[0m\u001b[1;33m(\u001b[0m\u001b[0mgrid_sel\u001b[0m\u001b[1;33m[\u001b[0m\u001b[0mgrid_rejected\u001b[0m\u001b[1;33m]\u001b[0m\u001b[1;33m)\u001b[0m\u001b[1;33m\u001b[0m\u001b[0m\n",
      "\u001b[0m\u001b[1;32m--> 127 \u001b[1;33m                \u001b[0mgrid_sel\u001b[0m \u001b[1;33m=\u001b[0m \u001b[0mnp\u001b[0m\u001b[1;33m.\u001b[0m\u001b[0mdelete\u001b[0m\u001b[1;33m(\u001b[0m\u001b[0mgrid_sel\u001b[0m\u001b[1;33m,\u001b[0m \u001b[1;33m(\u001b[0m\u001b[0mgrid_rejected\u001b[0m\u001b[1;33m)\u001b[0m\u001b[1;33m,\u001b[0m \u001b[0maxis\u001b[0m\u001b[1;33m=\u001b[0m\u001b[1;36m0\u001b[0m\u001b[1;33m)\u001b[0m\u001b[1;33m\u001b[0m\u001b[0m\n",
      "\u001b[0m\u001b[1;32m    128 \u001b[1;33m                \u001b[0mgrid_pop\u001b[0m \u001b[1;33m=\u001b[0m \u001b[0mnp\u001b[0m\u001b[1;33m.\u001b[0m\u001b[0mdelete\u001b[0m\u001b[1;33m(\u001b[0m\u001b[0mgrid_pop\u001b[0m\u001b[1;33m,\u001b[0m \u001b[1;33m(\u001b[0m\u001b[0mgrid_rejected\u001b[0m\u001b[1;33m)\u001b[0m\u001b[1;33m,\u001b[0m \u001b[0maxis\u001b[0m\u001b[1;33m=\u001b[0m\u001b[1;36m0\u001b[0m\u001b[1;33m)\u001b[0m\u001b[1;33m\u001b[0m\u001b[0m\n",
      "\u001b[0m\u001b[1;32m    129 \u001b[1;33m\u001b[1;33m\u001b[0m\u001b[0m\n",
      "\u001b[0m\n"
     ]
    }
   ],
   "source": [
    "fig = plt.figure()\n",
    "ax = fig.add_subplot(1, 1, 1) \n",
    "\n",
    "for g in range(max_gens):\n",
    "    \n",
    "    lambda_pop = Population(variables=np.array(cma.generate(mu_pop.variables, bounds_lower, bounds_upper)), objectives=np.zeros((mu,M)))\n",
    "    lambda_pop = evaluate(problem, mu, lambda_pop,bounds_lower, bounds_upper, pen_alpha)\n",
    "\n",
    "    max_refs = np.maximum(max_refs, np.concatenate((mu_pop.objectives, lambda_pop.objectives)).max(axis=0))\n",
    "\n",
    "    cma_parent_pop = mu_pop.variables[:]\n",
    "\n",
    "    (parent_id, is_parent, mu_pop) = select(mu_pop, lambda_pop, mu, delta, max_refs)\n",
    "\n",
    "    cma.update(mu_pop, is_parent, parent_id, mu, cma_parent_pop)\n",
    "   \n",
    "    # VISUALISATION\n",
    "    if(VIZ):\n",
    "        if(M == 3):\n",
    "            if((g % 10) == 0):\n",
    "                ax = fig.add_subplot(1, 1, 1,projection='3d') \n",
    "                ax.cla()\n",
    "                ax.view_init(30, 90)\n",
    "\n",
    "\n",
    "                ax.scatter(mu_pop.objectives[:,0], mu_pop.objectives[:,1], mu_pop.objectives[:,2], marker='o', depthshade=True,alpha = 1,linewidth='0.5')\n",
    "\n",
    "\n",
    "                ax.set_xlim(0, 1)\n",
    "                ax.set_ylim(0, 1)\n",
    "                ax.set_zlim(0, 1)\n",
    "                plt.title(\"{} {}\".format(g, max_refs))\n",
    "\n",
    "                display(fig)\n",
    "\n",
    "\n",
    "                clear_output(wait = True)\n",
    "        else:\n",
    "            df_lambda_pop = pd.DataFrame(lambda_pop.objectives)\n",
    "            df_lambda_pop['Generation'] = np.zeros(lambda_pop.objectives.shape[0])\n",
    "            df_mu_pop = pd.DataFrame(mu_pop.objectives)\n",
    "            df_mu_pop['Generation'] = np.zeros(mu_pop.objectives.shape[0]) + 1\n",
    "\n",
    "            result = pd.concat([df_mu_pop])\n",
    "\n",
    "            if((g % 10) == 0):\n",
    "                ax.cla()\n",
    "                parallel_coordinates(result,'Generation')\n",
    "                plt.title(\"{} {}\".format(g, max_refs))\n",
    "                #plt.ylim((0, 3))\n",
    "                display(fig)\n",
    "                clear_output(wait = True)"
   ]
  },
  {
   "cell_type": "code",
   "execution_count": null,
   "metadata": {
    "collapsed": false
   },
   "outputs": [],
   "source": [
    "np.savetxt(\"mu.csv\", mu_pop.objectives, delimiter=\",\")"
   ]
  },
  {
   "cell_type": "code",
   "execution_count": null,
   "metadata": {
    "collapsed": true
   },
   "outputs": [],
   "source": []
  },
  {
   "cell_type": "code",
   "execution_count": null,
   "metadata": {
    "collapsed": true
   },
   "outputs": [],
   "source": []
  }
 ],
 "metadata": {
  "kernelspec": {
   "display_name": "Python 2",
   "language": "python",
   "name": "python2"
  },
  "language_info": {
   "codemirror_mode": {
    "name": "ipython",
    "version": 2
   },
   "file_extension": ".py",
   "mimetype": "text/x-python",
   "name": "python",
   "nbconvert_exporter": "python",
   "pygments_lexer": "ipython2",
   "version": "2.7.12"
  }
 },
 "nbformat": 4,
 "nbformat_minor": 2
}
